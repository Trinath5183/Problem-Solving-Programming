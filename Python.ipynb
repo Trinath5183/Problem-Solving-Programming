{
 "cells": [
  {
   "cell_type": "markdown",
   "metadata": {},
   "source": [
    "# Mark\n",
    "## Mark\n",
    "### Mark"
   ]
  },
  {
   "cell_type": "markdown",
   "metadata": {},
   "source": [
    "# Trinath\n",
    "## Trinath\n",
    "### Trinath\n",
    "#### Trinath\n",
    "##### Trinath"
   ]
  },
  {
   "cell_type": "markdown",
   "metadata": {},
   "source": [
    "* point *"
   ]
  },
  {
   "cell_type": "markdown",
   "metadata": {},
   "source": [
    "** point **"
   ]
  },
  {
   "cell_type": "markdown",
   "metadata": {},
   "source": [
    "**point**"
   ]
  },
  {
   "cell_type": "markdown",
   "metadata": {},
   "source": [
    "***point***"
   ]
  },
  {
   "cell_type": "markdown",
   "metadata": {},
   "source": [
    "* krunker --[2]:https://krunker.io/?game=SIN:3609r"
   ]
  },
  {
   "cell_type": "markdown",
   "metadata": {},
   "source": [
    "* Google Site -- [Google][1]\n",
    "[1]:http://www.google.com"
   ]
  },
  {
   "cell_type": "markdown",
   "metadata": {},
   "source": [
    "* Krunker - [Krunker][2]\n",
    "[2]:https://krunker.io/?game=SIN:3609r"
   ]
  },
  {
   "cell_type": "code",
   "execution_count": 12,
   "metadata": {},
   "outputs": [
    {
     "name": "stdout",
     "output_type": "stream",
     "text": [
      "hello world\n"
     ]
    }
   ],
   "source": [
    "print(\"hello world\")"
   ]
  },
  {
   "cell_type": "code",
   "execution_count": 13,
   "metadata": {},
   "outputs": [
    {
     "name": "stdout",
     "output_type": "stream",
     "text": [
      "show man\n"
     ]
    }
   ],
   "source": [
    "print(\"show\",end=\" \")\n",
    "print(\"man\")"
   ]
  },
  {
   "cell_type": "code",
   "execution_count": 17,
   "metadata": {},
   "outputs": [
    {
     "name": "stdout",
     "output_type": "stream",
     "text": [
      "trinath  hi kodi trinath paanch\n"
     ]
    }
   ],
   "source": [
    "print(\"trinath\",\" hi\",end=\" \")\n",
    "print(\"kodi\",end=\" trinath \")\n",
    "print(\"paanch\")"
   ]
  },
  {
   "cell_type": "code",
   "execution_count": 20,
   "metadata": {},
   "outputs": [
    {
     "name": "stdout",
     "output_type": "stream",
     "text": [
      "20\n",
      "61 61 61\n",
      "20 11 30\n"
     ]
    }
   ],
   "source": [
    "a=20 #single variable assignment\n",
    "b=c=v=61 # multi variable assignment with same value\n",
    "z,d,f=20,30,11 # multi variable assignment with different variables & values\n",
    "print(a)\n",
    "print(b,c,v)\n",
    "print(z,f,d)"
   ]
  },
  {
   "cell_type": "code",
   "execution_count": 24,
   "metadata": {},
   "outputs": [
    {
     "name": "stdout",
     "output_type": "stream",
     "text": [
      "48 33.48\n",
      "<class 'int'>\n",
      "<class 'float'>\n"
     ]
    }
   ],
   "source": [
    "x=48\n",
    "y=33.48\n",
    "print(x,y)\n",
    "print(type(a))\n",
    "print(type(y))"
   ]
  },
  {
   "cell_type": "code",
   "execution_count": 25,
   "metadata": {},
   "outputs": [
    {
     "name": "stdout",
     "output_type": "stream",
     "text": [
      "48 33.48\n",
      "<class 'int'> <class 'float'>\n"
     ]
    }
   ],
   "source": [
    "x=48\n",
    "y=33.48\n",
    "print(x,y)\n",
    "print(type(x),type(y))"
   ]
  },
  {
   "cell_type": "code",
   "execution_count": 26,
   "metadata": {},
   "outputs": [
    {
     "name": "stdout",
     "output_type": "stream",
     "text": [
      "hello!\n",
      "hello\n"
     ]
    }
   ],
   "source": [
    "print(\"hello!\\nhello\")"
   ]
  },
  {
   "cell_type": "code",
   "execution_count": 5,
   "metadata": {},
   "outputs": [
    {
     "name": "stdout",
     "output_type": "stream",
     "text": [
      "<class 'int'>\n",
      "<class 'str'>\n",
      "<class 'float'>\n"
     ]
    }
   ],
   "source": [
    "i=100\n",
    "print(type(i))\n",
    "x=str(i) # str() converts the input to string type\n",
    "print(type(x))\n",
    "y=float(i) # float() converts the input into float type\n",
    "print(type(y))"
   ]
  },
  {
   "cell_type": "code",
   "execution_count": null,
   "metadata": {},
   "outputs": [],
   "source": [
    "x=\"100\"\n",
    "print(type(x))\n",
    "a=int(x)\n",
    "print(type(a))\n",
    "f=3.3\n",
    "z=int(f)\n",
    "print(type(z))\n",
    "print(z)"
   ]
  },
  {
   "cell_type": "code",
   "execution_count": 7,
   "metadata": {},
   "outputs": [
    {
     "name": "stdout",
     "output_type": "stream",
     "text": [
      "4\n"
     ]
    }
   ],
   "source": [
    "#TO FIND LENGTH\n",
    "a=3348\n",
    "print(len(str(a)))"
   ]
  },
  {
   "cell_type": "code",
   "execution_count": 8,
   "metadata": {},
   "outputs": [
    {
     "name": "stdout",
     "output_type": "stream",
     "text": [
      "enter your nametrinath\n",
      "trinath\n",
      "<class 'str'>\n"
     ]
    }
   ],
   "source": [
    "s1=input(\"enter your name\")\n",
    "print(s1)\n",
    "print(type(s1))"
   ]
  },
  {
   "cell_type": "markdown",
   "metadata": {},
   "source": [
    "# Operators"
   ]
  },
  {
   "cell_type": "markdown",
   "metadata": {},
   "source": [
    "## Arithetic Operators"
   ]
  },
  {
   "cell_type": "markdown",
   "metadata": {},
   "source": [
    "* +\n",
    "* -\n",
    "* /\n",
    "* %\n",
    "* *\n",
    "* // # double division gives answer in int type while single division gives output in float\n",
    "### **"
   ]
  },
  {
   "cell_type": "code",
   "execution_count": 9,
   "metadata": {},
   "outputs": [
    {
     "name": "stdout",
     "output_type": "stream",
     "text": [
      "81\n",
      "15\n",
      "1.4545454545454546\n",
      "1584\n",
      "1\n",
      "30266404599109864532334369015971799232027475459658743808\n"
     ]
    }
   ],
   "source": [
    "x,y=48,33\n",
    "print(x+y)\n",
    "print(x-y)\n",
    "print(x/y)\n",
    "print(x*y)\n",
    "print(x//y)\n",
    "print(x**y)"
   ]
  },
  {
   "cell_type": "code",
   "execution_count": 10,
   "metadata": {},
   "outputs": [
    {
     "name": "stdout",
     "output_type": "stream",
     "text": [
      "8.0\n",
      "<class 'float'>\n"
     ]
    }
   ],
   "source": [
    "x=1+2**3/4+5\n",
    "print(x)\n",
    "print(type(x))"
   ]
  },
  {
   "cell_type": "markdown",
   "metadata": {},
   "source": [
    "## Relational Operators\n",
    "\n",
    "* ==\n",
    "* !=\n",
    "* greater than (>)\n",
    "* less than (<)\n",
    "* greater than or equal to (>=)\n",
    "* lessthan or equal to (<=)\n"
   ]
  },
  {
   "cell_type": "code",
   "execution_count": 11,
   "metadata": {},
   "outputs": [
    {
     "name": "stdout",
     "output_type": "stream",
     "text": [
      "False\n",
      "True\n"
     ]
    }
   ],
   "source": [
    "a,b=5,8\n",
    "x=(a>5 and b>8)\n",
    "y=(a<6 and b<9)\n",
    "print(x)\n",
    "print(y)"
   ]
  },
  {
   "cell_type": "markdown",
   "metadata": {},
   "source": [
    "# Else If Syntax"
   ]
  },
  {
   "cell_type": "markdown",
   "metadata": {},
   "source": [
    "if<>:\n",
    "else:\n",
    "\n",
    "## or\n",
    "\n",
    "if<>:\n",
    "elif<>:"
   ]
  },
  {
   "cell_type": "code",
   "execution_count": 2,
   "metadata": {},
   "outputs": [
    {
     "name": "stdout",
     "output_type": "stream",
     "text": [
      "enter a number9\n",
      "odd\n"
     ]
    }
   ],
   "source": [
    "# To check given number is even or odd\n",
    "n=int(input(\"enter a number\"))\n",
    "if n%2 == 0:\n",
    "    print(\"even\")\n",
    "else:\n",
    "    print(\"odd\")"
   ]
  },
  {
   "cell_type": "code",
   "execution_count": 3,
   "metadata": {},
   "outputs": [
    {
     "name": "stdout",
     "output_type": "stream",
     "text": [
      "enter a number25\n",
      "not divisible by 3 & 5\n"
     ]
    }
   ],
   "source": [
    "# Given number is divisible by both 3 & 5 or not\n",
    "n=int(input(\"enter a number\"))\n",
    "if n%3==0 and n%5==0:\n",
    "    print(\"divisible by 3 & 5\")\n",
    "else:\n",
    "    print(\"not divisible by 3 & 5\")"
   ]
  },
  {
   "cell_type": "code",
   "execution_count": null,
   "metadata": {},
   "outputs": [],
   "source": [
    "# Given number is 0 or -ve or +ve\n",
    "n=int(input(\"enter a number\"))\n",
    "if n==0:\n",
    "    print(\"n=0\")\n",
    "elif n>0:\n",
    "    print(\"n>0\")\n",
    "else:\n",
    "    print(\"n<0\")"
   ]
  },
  {
   "cell_type": "code",
   "execution_count": null,
   "metadata": {},
   "outputs": [],
   "source": [
    "# Largest among the three numberws\n",
    "a=int(input(\"enter a number\"))\n",
    "b=int(input(\"enter b number\"))\n",
    "c=int(input(\"enter c number\"))\n",
    "if a<b and a<c:\n",
    "    print(a, \"is largest\")\n",
    "elif b<a and b<c:\n",
    "    print(b,\"is largest\")\n",
    "else:\n",
    "    print(c,\"is largest\")"
   ]
  },
  {
   "cell_type": "code",
   "execution_count": null,
   "metadata": {},
   "outputs": [],
   "source": [
    "#to check given year is leap or not\n",
    "n=int(input(\"enter a year\"))\n",
    "if n%4==0:\n",
    "    print(n,\"is a leap year\")\n",
    "else:\n",
    "    print(n,\"is not a leap year\")"
   ]
  },
  {
   "cell_type": "markdown",
   "metadata": {},
   "source": [
    "# Iterations\n",
    "\n",
    "    1. While\n",
    "    2. For"
   ]
  },
  {
   "cell_type": "markdown",
   "metadata": {},
   "source": [
    "## While Boolean Condition:\n",
    "      Statements\n",
    "      Increment/Decrement(update)\n",
    "      \n",
    "### Syntax\n",
    "     while condition:\n",
    "     statements\n",
    "     update"
   ]
  },
  {
   "cell_type": "code",
   "execution_count": 1,
   "metadata": {},
   "outputs": [
    {
     "name": "stdout",
     "output_type": "stream",
     "text": [
      "enter a nameg\n",
      "g\n",
      "g\n",
      "g\n",
      "g\n",
      "g\n"
     ]
    }
   ],
   "source": [
    "# To print A name 5 times\n",
    "n=str(input(\"enter a name\"))\n",
    "i=0\n",
    "while i<5:\n",
    "    print(n)\n",
    "    i=i+1"
   ]
  },
  {
   "cell_type": "code",
   "execution_count": 10,
   "metadata": {},
   "outputs": [
    {
     "name": "stdout",
     "output_type": "stream",
     "text": [
      "enter n6\n",
      "0 1 2 3 4 5 6 "
     ]
    }
   ],
   "source": [
    "# T print 1 to n numbers\n",
    "n=int(input(\"enter n\"))\n",
    "i=0\n",
    "while i<=n:\n",
    "    print(i,end=\" \")\n",
    "    i=i+1"
   ]
  },
  {
   "cell_type": "code",
   "execution_count": 6,
   "metadata": {},
   "outputs": [
    {
     "name": "stdout",
     "output_type": "stream",
     "text": [
      "enter a number5\n",
      "9\n"
     ]
    }
   ],
   "source": [
    "# To read even number between 1 to n and sum them\n",
    "n=int(input(\"enter a number\"))\n",
    "i=0\n",
    "sum=0\n",
    "while i<=n:\n",
    "    if i%2==0:\n",
    "        sum=sum+i\n",
    "    i=i+1   \n",
    "print(sum)"
   ]
  },
  {
   "cell_type": "code",
   "execution_count": 7,
   "metadata": {},
   "outputs": [
    {
     "name": "stdout",
     "output_type": "stream",
     "text": [
      "enter a number3\n",
      "4\n"
     ]
    }
   ],
   "source": [
    "# To read odd numbers  between 1 to n\n",
    "n=int(input(\"enter a number\"))\n",
    "i=0\n",
    "sum=0\n",
    "while i<=n:\n",
    "    if i%2!=0:\n",
    "        sum=sum+i\n",
    "    i=i+1   \n",
    "print(sum)"
   ]
  },
  {
   "cell_type": "code",
   "execution_count": 7,
   "metadata": {},
   "outputs": [
    {
     "name": "stdout",
     "output_type": "stream",
     "text": [
      "enter a number3483\n",
      "3483\n",
      "3\n",
      "8\n",
      "4\n",
      "3\n"
     ]
    }
   ],
   "source": [
    "# to print digits in given number\n",
    "n=int(input(\"enter a number\"))\n",
    "r=0\n",
    "print(n)\n",
    "while n>0:\n",
    "    r=n%10\n",
    "    print(r)\n",
    "    n=int(n/10)"
   ]
  },
  {
   "cell_type": "markdown",
   "metadata": {},
   "source": [
    "# Functional Programing\n",
    "\n",
    "## Simple\n",
    "## Easy to read\n",
    "## Lengthy program divides into sub-program"
   ]
  },
  {
   "cell_type": "markdown",
   "metadata": {},
   "source": [
    "### def  name of the function (parameters):\n",
    "    Statements\n",
    "    return"
   ]
  },
  {
   "cell_type": "code",
   "execution_count": 37,
   "metadata": {},
   "outputs": [
    {
     "name": "stdout",
     "output_type": "stream",
     "text": [
      "enter a number4666666\n"
     ]
    },
    {
     "data": {
      "text/plain": [
       "40"
      ]
     },
     "execution_count": 37,
     "metadata": {},
     "output_type": "execute_result"
    }
   ],
   "source": [
    "# Sum of even digits using functions\n",
    "def addevendigits(n):\n",
    "    sum=0\n",
    "    while n!=0:\n",
    "        r=n%10\n",
    "        if r%2==0:\n",
    "            sum=sum+r\n",
    "        n=n//10\n",
    "    return(sum)#instead of return print can also be used\n",
    "n=int(input(\"enter a number\"))\n",
    "addevendigits(n)"
   ]
  },
  {
   "cell_type": "code",
   "execution_count": 30,
   "metadata": {},
   "outputs": [
    {
     "name": "stdout",
     "output_type": "stream",
     "text": [
      "enter a number4738\n",
      "8\n"
     ]
    }
   ],
   "source": [
    "# To print Large digit in a number\n",
    "def larger(n):\n",
    "    a=0\n",
    "    while n!=0:\n",
    "        r=n%10\n",
    "        if r>a:\n",
    "            a=r\n",
    "        n=n//10\n",
    "    print(a)      \n",
    "n=int(input(\"enter a number\"))\n",
    "larger(n)"
   ]
  },
  {
   "cell_type": "code",
   "execution_count": 38,
   "metadata": {},
   "outputs": [
    {
     "name": "stdout",
     "output_type": "stream",
     "text": [
      "enter a number457\n"
     ]
    },
    {
     "data": {
      "text/plain": [
       "754"
      ]
     },
     "execution_count": 38,
     "metadata": {},
     "output_type": "execute_result"
    }
   ],
   "source": [
    "#To reverse a number\n",
    "def reverse(n):\n",
    "    s=0\n",
    "    while n!=0:\n",
    "        r=n%10\n",
    "        s=s*10+r\n",
    "        n=n//10\n",
    "    return(s)\n",
    "n=int(input(\"enter a number\"))\n",
    "reverse(n)"
   ]
  },
  {
   "cell_type": "code",
   "execution_count": 47,
   "metadata": {},
   "outputs": [
    {
     "name": "stdout",
     "output_type": "stream",
     "text": [
      "enter a number3443\n",
      "pallindrome\n"
     ]
    }
   ],
   "source": [
    "#Given number is palindrome or not\n",
    "def pallindrome(n):\n",
    "    s=0\n",
    "    k=n\n",
    "    while n!=0:\n",
    "        r=n%10\n",
    "        s=s*10+r\n",
    "        n=n//10\n",
    "    if k==s:\n",
    "        print(\"pallindrome\")\n",
    "    else:\n",
    "        return \"Not a Pallindrome\"\n",
    "n=int(input(\"enter a number\"))\n",
    "pallindrome(n)"
   ]
  },
  {
   "cell_type": "code",
   "execution_count": 3,
   "metadata": {},
   "outputs": [
    {
     "name": "stdout",
     "output_type": "stream",
     "text": [
      "enter a number5\n",
      "120\n"
     ]
    }
   ],
   "source": [
    "#factorial\n",
    "\n",
    "n=int(input(\"enter a number\"))\n",
    "def fact(n):\n",
    "    f=1\n",
    "    i=1\n",
    "    while i<=n:\n",
    "        f=f*i\n",
    "        i=i+1\n",
    "    return(f)\n",
    "print(fact(n))"
   ]
  },
  {
   "cell_type": "markdown",
   "metadata": {},
   "source": [
    "## Functions using for loop"
   ]
  },
  {
   "cell_type": "code",
   "execution_count": 4,
   "metadata": {},
   "outputs": [
    {
     "name": "stdout",
     "output_type": "stream",
     "text": [
      "enter n4\n",
      "1 2 3 4 "
     ]
    }
   ],
   "source": [
    "#To print 1 to n numbers\n",
    "def num(n):\n",
    "    for i in range (1,n+1):\n",
    "        print(i,end=\" \")\n",
    "n=int(input(\"enter n\"))\n",
    "num(n)"
   ]
  },
  {
   "cell_type": "code",
   "execution_count": 8,
   "metadata": {},
   "outputs": [
    {
     "name": "stdout",
     "output_type": "stream",
     "text": [
      "enter n44\n",
      "enter m22\n",
      "44 43 42 41 40 39 38 37 36 35 34 33 32 31 30 29 28 27 26 25 24 23 22 "
     ]
    }
   ],
   "source": [
    "# to print alternative numbers\n",
    "def num(n,m):\n",
    "    for i in range (n,m-1,-1):\n",
    "        print(i,end=\" \")\n",
    "n=int(input(\"enter n\"))\n",
    "m=int(input(\"enter m\"))\n",
    "num(n,m)"
   ]
  },
  {
   "cell_type": "code",
   "execution_count": 1,
   "metadata": {},
   "outputs": [
    {
     "name": "stdout",
     "output_type": "stream",
     "text": [
      "10\n",
      "14\n",
      "18\n"
     ]
    }
   ],
   "source": [
    "for i in range(10,20-1,4):\n",
    "      print(i)\n"
   ]
  },
  {
   "cell_type": "code",
   "execution_count": 5,
   "metadata": {},
   "outputs": [
    {
     "name": "stdout",
     "output_type": "stream",
     "text": [
      "enter n6\n",
      "1 2 3 6 "
     ]
    }
   ],
   "source": [
    "#to find factors of given number\n",
    "def fact(n):\n",
    "    for i in range(1,n+1):\n",
    "        if n%i==0:\n",
    "            print(i,end=\" \")\n",
    "n=int(input(\"enter n\"))\n",
    "fact(n)"
   ]
  },
  {
   "cell_type": "code",
   "execution_count": 7,
   "metadata": {},
   "outputs": [
    {
     "name": "stdout",
     "output_type": "stream",
     "text": [
      "enter n4\n"
     ]
    },
    {
     "data": {
      "text/plain": [
       "False"
      ]
     },
     "execution_count": 7,
     "metadata": {},
     "output_type": "execute_result"
    }
   ],
   "source": [
    "# prime or not\n",
    "def isprime(n):\n",
    "    f=True\n",
    "    for i in range (2,n//2+1):\n",
    "        if n%i==0:\n",
    "            f=False\n",
    "            return f\n",
    "        return f\n",
    "n=int(input(\"enter n\"))\n",
    "isprime(n)\n",
    "        "
   ]
  },
  {
   "cell_type": "code",
   "execution_count": 22,
   "metadata": {},
   "outputs": [
    {
     "name": "stdout",
     "output_type": "stream",
     "text": [
      "enter n100\n"
     ]
    },
    {
     "data": {
      "text/plain": [
       "25"
      ]
     },
     "execution_count": 22,
     "metadata": {},
     "output_type": "execute_result"
    }
   ],
   "source": [
    "# prime numbers count in 1 to n\n",
    "def count(n):\n",
    "    x=0\n",
    "    for a in range (2,n+1):\n",
    "        c=0\n",
    "        for i in range (2,a//2+1):\n",
    "            if a%i==0:\n",
    "                c=c+1\n",
    "        if c==0:\n",
    "                x=x+1\n",
    "    return(x)\n",
    "n=int(input(\"enter n\"))\n",
    "count(n)"
   ]
  },
  {
   "cell_type": "code",
   "execution_count": 29,
   "metadata": {},
   "outputs": [
    {
     "name": "stdout",
     "output_type": "stream",
     "text": [
      "enter n3\n"
     ]
    },
    {
     "data": {
      "text/plain": [
       "9"
      ]
     },
     "execution_count": 29,
     "metadata": {},
     "output_type": "execute_result"
    }
   ],
   "source": [
    "# tp print series 1! + 2! + 31...n!\n",
    "def fact(a):\n",
    "    f=1\n",
    "    for i in range (1,a+1):\n",
    "        f*=i\n",
    "    return f   \n",
    "def series(m):\n",
    "    s=0\n",
    "    for x in range (1,n+1):\n",
    "        s=s+fact(x)\n",
    "    return s\n",
    "n=int(input(\"enter n\"))\n",
    "series(n)"
   ]
  },
  {
   "cell_type": "code",
   "execution_count": 30,
   "metadata": {},
   "outputs": [
    {
     "name": "stdout",
     "output_type": "stream",
     "text": [
      "enter lb 22\n",
      "enter ub 33\n"
     ]
    },
    {
     "data": {
      "text/plain": [
       "2"
      ]
     },
     "execution_count": 30,
     "metadata": {},
     "output_type": "execute_result"
    }
   ],
   "source": [
    "# count pallindrome\n",
    "def ispallindrome(n):\n",
    "    s=0\n",
    "    a=n\n",
    "    while n!=0:\n",
    "        r=n%10\n",
    "        s=s*10+r\n",
    "        n=n//10\n",
    "    if a==s:\n",
    "        return True\n",
    "    else:\n",
    "        return False\n",
    "def count(lb,ub):\n",
    "    c=0\n",
    "    while lb<=ub:\n",
    "        if ispallindrome(lb)==True:\n",
    "            c=c+1\n",
    "        lb=lb+1\n",
    "    return c\n",
    "lb=int(input(\"enter lb \"))\n",
    "ub=int(input(\"enter ub \"))        \n",
    "count(lb,ub)"
   ]
  },
  {
   "cell_type": "code",
   "execution_count": null,
   "metadata": {},
   "outputs": [
    {
     "name": "stdout",
     "output_type": "stream",
     "text": [
      "enter n10\n"
     ]
    }
   ],
   "source": [
    "# Function to generate perfect numbers in a given range\n",
    "def fact(n):\n",
    "    a=n\n",
    "    c=0\n",
    "    for x in range (1,a+1):\n",
    "        s=0\n",
    "        i=1\n",
    "        while i<x:\n",
    "            if x%i==0:\n",
    "                s=s+i\n",
    "                x=x+1\n",
    "        if s==x:\n",
    "            return c  \n",
    "n=int(input(\"enter n\"))\n",
    "fact(n)"
   ]
  },
  {
   "cell_type": "code",
   "execution_count": 2,
   "metadata": {},
   "outputs": [
    {
     "name": "stdout",
     "output_type": "stream",
     "text": [
      "6 28 496 8128 \n"
     ]
    }
   ],
   "source": [
    "# Function to generate perfect numbers in given range\n",
    "def fact(n):\n",
    "    s=0\n",
    "    for i in range(1,n//2+1):\n",
    "        if n%i==0:\n",
    "            s=s+i\n",
    "    return s\n",
    "def isperfect(n):\n",
    "    if fact(n) == n:\n",
    "        return True\n",
    "    return False\n",
    "def generatePerfect(lb,ub):\n",
    "    for x in range(lb,ub+1):\n",
    "        if isperfect(x):\n",
    "            print(x,end=\" \")\n",
    "    print()\n",
    "    return\n",
    "generatePerfect(1,10000)"
   ]
  },
  {
   "cell_type": "markdown",
   "metadata": {},
   "source": [
    "## Strings"
   ]
  },
  {
   "cell_type": "code",
   "execution_count": 3,
   "metadata": {},
   "outputs": [
    {
     "name": "stdout",
     "output_type": "stream",
     "text": [
      "S\n",
      "h\n",
      "n\n"
     ]
    }
   ],
   "source": [
    "s='Showman'\n",
    "print(s[0])           # first character\n",
    "print(s[1])\n",
    "print(s[len(s)-1])   #last character"
   ]
  },
  {
   "cell_type": "markdown",
   "metadata": {},
   "source": [
    "##### Access the first character-- print(s[0:2]) or print(s[:2])\n",
    "#### Access the last three characters --print(s[-3:])\n",
    "#### To print all characters except 1st and last-- print(s[1:-1])\n",
    "#### Reverse of string --print(s[-1::-1]) or [::-1]\n",
    "#### last 2 chars in reverse order-- print(s[-1:-3:-1])\n",
    "## Alternate characters\n",
    "#### for 2 -- print(s[::2])\n",
    "#### for 3 --print(s[::3])"
   ]
  },
  {
   "cell_type": "code",
   "execution_count": 7,
   "metadata": {},
   "outputs": [
    {
     "data": {
      "text/plain": [
       "'ugor'"
      ]
     },
     "execution_count": 7,
     "metadata": {},
     "output_type": "execute_result"
    }
   ],
   "source": [
    "#reverse a string\n",
    "def strrev(str):\n",
    "    return str[::-1]\n",
    "strrev(\"rogu\")"
   ]
  },
  {
   "cell_type": "code",
   "execution_count": 9,
   "metadata": {},
   "outputs": [
    {
     "name": "stdout",
     "output_type": "stream",
     "text": [
      "enter a sting lol\n"
     ]
    },
    {
     "data": {
      "text/plain": [
       "True"
      ]
     },
     "execution_count": 9,
     "metadata": {},
     "output_type": "execute_result"
    }
   ],
   "source": [
    "# String palindrome\n",
    "def ispalindrome(s):\n",
    "    if s==s[::]:\n",
    "        return True\n",
    "    else:\n",
    "        return False\n",
    "s=str(input(\"enter a sting \"))\n",
    "ispalindrome(s)"
   ]
  },
  {
   "cell_type": "markdown",
   "metadata": {},
   "source": [
    "### ASCII:\n",
    "\n",
    "* A - Z : 65 - 90\n",
    "* a - z : 97 - 122\n",
    "* 0 - 9 : 48 - 57\n",
    "* space : 32"
   ]
  },
  {
   "cell_type": "code",
   "execution_count": 2,
   "metadata": {},
   "outputs": [
    {
     "name": "stdout",
     "output_type": "stream",
     "text": [
      "enter a stringReAr\n",
      "R A "
     ]
    }
   ],
   "source": [
    "# print upper case char\n",
    "def upper(s):\n",
    "    for i in range (len(s)):\n",
    "        if ord(s[i])>=65 and ord(s[i])<=90:\n",
    "            print(s[i],end=\" \")\n",
    "s=str(input(\"enter a string\"))\n",
    "upper(s)"
   ]
  },
  {
   "cell_type": "code",
   "execution_count": 8,
   "metadata": {},
   "outputs": [
    {
     "name": "stdout",
     "output_type": "stream",
     "text": [
      "enter a stringRan\n",
      "programming\n"
     ]
    }
   ],
   "source": [
    "# Function to print \"Python\" if the count of upper and lower\n",
    "# case chars is same\n",
    "# Print programming if not same\n",
    "def uplo(s):\n",
    "    a,b=0,0\n",
    "    for i in range (len(s)):\n",
    "        if ord(s[i])>=65 and ord(s[i])<=90:\n",
    "            a+=1\n",
    "        elif ord(s[i])>=97 and ord(s[i])<=122:\n",
    "            b+=1\n",
    "    if a==b:\n",
    "        print(\"Python\")\n",
    "    else:\n",
    "        print(\"programming\")\n",
    "s=str(input(\"enter a string\"))\n",
    "uplo(s)"
   ]
  },
  {
   "cell_type": "code",
   "execution_count": 10,
   "metadata": {},
   "outputs": [
    {
     "name": "stdout",
     "output_type": "stream",
     "text": [
      "enter a stringra5g7\n",
      "5 7 "
     ]
    }
   ],
   "source": [
    "# Extract numbers from given string\n",
    "def extract(s):\n",
    "    for i in range (len(s)):\n",
    "        if ord(s[i])>=48 and ord(s[i])<=57:\n",
    "            print(s[i],end=\" \")\n",
    "s=str(input(\"enter a string\"))\n",
    "extract(s)"
   ]
  },
  {
   "cell_type": "code",
   "execution_count": 19,
   "metadata": {},
   "outputs": [
    {
     "name": "stdout",
     "output_type": "stream",
     "text": [
      "enter a stringt5y7\n",
      "sum of digits is 12\n"
     ]
    }
   ],
   "source": [
    "# Extract numbers from given string and add\n",
    "def extract(s):\n",
    "    a=0\n",
    "    for i in range (len(s)):\n",
    "        if ord(s[i])>=48 and ord(s[i])<=57:\n",
    "            a=ord(s[i])-48 + a\n",
    "    print(\"sum of digits is\",a)\n",
    "s=str(input(\"enter a string\"))\n",
    "extract(s)"
   ]
  },
  {
   "cell_type": "code",
   "execution_count": 21,
   "metadata": {},
   "outputs": [
    {
     "name": "stdout",
     "output_type": "stream",
     "text": [
      "M A D E "
     ]
    }
   ],
   "source": [
    "# to count characters count differently\n",
    "def word(s):\n",
    "    spaceCnt=0\n",
    "    for i in range (len(s)):\n",
    "        if ord(s[i])==32:\n",
    "            spaceCnt+=1\n",
    "        if spaceCnt==1:\n",
    "            if ord(s[i])>=65 and ord(s[i])<=90:\n",
    "                print(s[i],end=\" \")\n",
    "            elif ord(s[i])>=97 and ord(s[i])<=122:\n",
    "                print(chr(ord(s[i])-32),end=\" \")\n",
    "        if spaceCnt==2:\n",
    "            break\n",
    "    return\n",
    "word('Python Made Easy')        \n",
    "            "
   ]
  },
  {
   "cell_type": "code",
   "execution_count": 23,
   "metadata": {},
   "outputs": [
    {
     "name": "stdout",
     "output_type": "stream",
     "text": [
      "eoiim\n"
     ]
    }
   ],
   "source": [
    "x='gitam engineering college'\n",
    "print(x[len(x)::-5])"
   ]
  },
  {
   "cell_type": "code",
   "execution_count": null,
   "metadata": {},
   "outputs": [],
   "source": []
  }
 ],
 "metadata": {
  "kernelspec": {
   "display_name": "Python 3",
   "language": "python",
   "name": "python3"
  },
  "language_info": {
   "codemirror_mode": {
    "name": "ipython",
    "version": 3
   },
   "file_extension": ".py",
   "mimetype": "text/x-python",
   "name": "python",
   "nbconvert_exporter": "python",
   "pygments_lexer": "ipython3",
   "version": "3.7.3"
  }
 },
 "nbformat": 4,
 "nbformat_minor": 2
}
