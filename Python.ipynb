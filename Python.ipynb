{
 "cells": [
  {
   "cell_type": "markdown",
   "metadata": {},
   "source": [
    "# Mark\n",
    "## Mark\n",
    "### Mark"
   ]
  },
  {
   "cell_type": "markdown",
   "metadata": {},
   "source": [
    "# Trinath\n",
    "## Trinath\n",
    "### Trinath\n",
    "#### Trinath\n",
    "##### Trinath"
   ]
  },
  {
   "cell_type": "markdown",
   "metadata": {},
   "source": [
    "* point *"
   ]
  },
  {
   "cell_type": "markdown",
   "metadata": {},
   "source": [
    "** point **"
   ]
  },
  {
   "cell_type": "markdown",
   "metadata": {},
   "source": [
    "**point**"
   ]
  },
  {
   "cell_type": "markdown",
   "metadata": {},
   "source": [
    "***point***"
   ]
  },
  {
   "cell_type": "markdown",
   "metadata": {},
   "source": [
    "* krunker --[2]:https://krunker.io/?game=SIN:3609r"
   ]
  },
  {
   "cell_type": "markdown",
   "metadata": {},
   "source": [
    "* Google Site -- [Google][1]\n",
    "[1]:http://www.google.com"
   ]
  },
  {
   "cell_type": "markdown",
   "metadata": {},
   "source": [
    "* Krunker - [Krunker][2]\n",
    "[2]:https://krunker.io/?game=SIN:3609r"
   ]
  },
  {
   "cell_type": "code",
   "execution_count": 12,
   "metadata": {},
   "outputs": [
    {
     "name": "stdout",
     "output_type": "stream",
     "text": [
      "hello world\n"
     ]
    }
   ],
   "source": [
    "print(\"hello world\")"
   ]
  },
  {
   "cell_type": "code",
   "execution_count": 13,
   "metadata": {},
   "outputs": [
    {
     "name": "stdout",
     "output_type": "stream",
     "text": [
      "show man\n"
     ]
    }
   ],
   "source": [
    "print(\"show\",end=\" \")\n",
    "print(\"man\")"
   ]
  },
  {
   "cell_type": "code",
   "execution_count": 17,
   "metadata": {},
   "outputs": [
    {
     "name": "stdout",
     "output_type": "stream",
     "text": [
      "trinath  hi kodi trinath paanch\n"
     ]
    }
   ],
   "source": [
    "print(\"trinath\",\" hi\",end=\" \")\n",
    "print(\"kodi\",end=\" trinath \")\n",
    "print(\"paanch\")"
   ]
  },
  {
   "cell_type": "code",
   "execution_count": 20,
   "metadata": {},
   "outputs": [
    {
     "name": "stdout",
     "output_type": "stream",
     "text": [
      "20\n",
      "61 61 61\n",
      "20 11 30\n"
     ]
    }
   ],
   "source": [
    "a=20 #single variable assignment\n",
    "b=c=v=61 # multi variable assignment with same value\n",
    "z,d,f=20,30,11 # multi variable assignment with different variables & values\n",
    "print(a)\n",
    "print(b,c,v)\n",
    "print(z,f,d)"
   ]
  },
  {
   "cell_type": "code",
   "execution_count": 24,
   "metadata": {},
   "outputs": [
    {
     "name": "stdout",
     "output_type": "stream",
     "text": [
      "48 33.48\n",
      "<class 'int'>\n",
      "<class 'float'>\n"
     ]
    }
   ],
   "source": [
    "x=48\n",
    "y=33.48\n",
    "print(x,y)\n",
    "print(type(a))\n",
    "print(type(y))"
   ]
  },
  {
   "cell_type": "code",
   "execution_count": 25,
   "metadata": {},
   "outputs": [
    {
     "name": "stdout",
     "output_type": "stream",
     "text": [
      "48 33.48\n",
      "<class 'int'> <class 'float'>\n"
     ]
    }
   ],
   "source": [
    "x=48\n",
    "y=33.48\n",
    "print(x,y)\n",
    "print(type(x),type(y))"
   ]
  },
  {
   "cell_type": "code",
   "execution_count": 26,
   "metadata": {},
   "outputs": [
    {
     "name": "stdout",
     "output_type": "stream",
     "text": [
      "hello!\n",
      "hello\n"
     ]
    }
   ],
   "source": [
    "print(\"hello!\\nhello\")"
   ]
  },
  {
   "cell_type": "code",
   "execution_count": 5,
   "metadata": {},
   "outputs": [
    {
     "name": "stdout",
     "output_type": "stream",
     "text": [
      "<class 'int'>\n",
      "<class 'str'>\n",
      "<class 'float'>\n"
     ]
    }
   ],
   "source": [
    "i=100\n",
    "print(type(i))\n",
    "x=str(i) # str() converts the input to string type\n",
    "print(type(x))\n",
    "y=float(i) # float() converts the input into float type\n",
    "print(type(y))"
   ]
  },
  {
   "cell_type": "code",
   "execution_count": 6,
   "metadata": {},
   "outputs": [
    {
     "name": "stdout",
     "output_type": "stream",
     "text": [
      "<class 'str'>\n",
      "<class 'int'>\n",
      "<class 'int'>\n",
      "3\n"
     ]
    }
   ],
   "source": [
    "x=\"100\"\n",
    "print(type(x))\n",
    "a=int(x)\n",
    "print(type(a))\n",
    "f=3.3\n",
    "z=int(f)\n",
    "print(type(z))\n",
    "print(z)"
   ]
  },
  {
   "cell_type": "code",
   "execution_count": 7,
   "metadata": {},
   "outputs": [
    {
     "name": "stdout",
     "output_type": "stream",
     "text": [
      "4\n"
     ]
    }
   ],
   "source": [
    "#TO FIND LENGTH\n",
    "a=3348\n",
    "print(len(str(a)))"
   ]
  },
  {
   "cell_type": "code",
   "execution_count": 8,
   "metadata": {},
   "outputs": [
    {
     "name": "stdout",
     "output_type": "stream",
     "text": [
      "enter your nametrinath\n",
      "trinath\n",
      "<class 'str'>\n"
     ]
    }
   ],
   "source": [
    "s1=input(\"enter your name\")\n",
    "print(s1)\n",
    "print(type(s1))"
   ]
  },
  {
   "cell_type": "markdown",
   "metadata": {},
   "source": [
    "# Operators"
   ]
  },
  {
   "cell_type": "markdown",
   "metadata": {},
   "source": [
    "## Arithetic Operators"
   ]
  },
  {
   "cell_type": "markdown",
   "metadata": {},
   "source": [
    "* +\n",
    "* -\n",
    "* /\n",
    "* %\n",
    "* *\n",
    "* // # double division gives answer in int type while single division gives output in float\n",
    "### **"
   ]
  },
  {
   "cell_type": "code",
   "execution_count": 9,
   "metadata": {},
   "outputs": [
    {
     "name": "stdout",
     "output_type": "stream",
     "text": [
      "81\n",
      "15\n",
      "1.4545454545454546\n",
      "1584\n",
      "1\n",
      "30266404599109864532334369015971799232027475459658743808\n"
     ]
    }
   ],
   "source": [
    "x,y=48,33\n",
    "print(x+y)\n",
    "print(x-y)\n",
    "print(x/y)\n",
    "print(x*y)\n",
    "print(x//y)\n",
    "print(x**y)"
   ]
  },
  {
   "cell_type": "code",
   "execution_count": 10,
   "metadata": {},
   "outputs": [
    {
     "name": "stdout",
     "output_type": "stream",
     "text": [
      "8.0\n",
      "<class 'float'>\n"
     ]
    }
   ],
   "source": [
    "x=1+2**3/4+5\n",
    "print(x)\n",
    "print(type(x))"
   ]
  },
  {
   "cell_type": "markdown",
   "metadata": {},
   "source": [
    "## Relational Operators\n",
    "\n",
    "* ==\n",
    "* !=\n",
    "* greater than (>)\n",
    "* less than (<)\n",
    "* greater than or equal to (>=)\n",
    "* lessthan or equal to (<=)\n"
   ]
  },
  {
   "cell_type": "code",
   "execution_count": 11,
   "metadata": {},
   "outputs": [
    {
     "name": "stdout",
     "output_type": "stream",
     "text": [
      "False\n",
      "True\n"
     ]
    }
   ],
   "source": [
    "a,b=5,8\n",
    "x=(a>5 and b>8)\n",
    "y=(a<6 and b<9)\n",
    "print(x)\n",
    "print(y)"
   ]
  },
  {
   "cell_type": "markdown",
   "metadata": {},
   "source": [
    "# Else If Syntax"
   ]
  },
  {
   "cell_type": "markdown",
   "metadata": {},
   "source": [
    "if<>:\n",
    "else:\n",
    "\n",
    "## or\n",
    "\n",
    "if<>:\n",
    "elif<>:"
   ]
  }
 ],
 "metadata": {
  "kernelspec": {
   "display_name": "Python 3",
   "language": "python",
   "name": "python3"
  },
  "language_info": {
   "codemirror_mode": {
    "name": "ipython",
    "version": 3
   },
   "file_extension": ".py",
   "mimetype": "text/x-python",
   "name": "python",
   "nbconvert_exporter": "python",
   "pygments_lexer": "ipython3",
   "version": "3.7.3"
  }
 },
 "nbformat": 4,
 "nbformat_minor": 2
}
