{
 "cells": [
  {
   "cell_type": "code",
   "execution_count": null,
   "metadata": {},
   "outputs": [],
   "source": [
    "# Mark\n",
    "## Mark\n",
    "### Mark"
   ]
  },
  {
   "cell_type": "markdown",
   "metadata": {},
   "source": [
    "# Trinath\n",
    "## Trinath\n",
    "### Trinath\n",
    "#### Trinath\n",
    "##### Trinath"
   ]
  },
  {
   "cell_type": "markdown",
   "metadata": {},
   "source": [
    "* point *"
   ]
  },
  {
   "cell_type": "markdown",
   "metadata": {},
   "source": [
    "** point **"
   ]
  },
  {
   "cell_type": "markdown",
   "metadata": {},
   "source": [
    "**point**"
   ]
  },
  {
   "cell_type": "markdown",
   "metadata": {},
   "source": [
    "***point***"
   ]
  },
  {
   "cell_type": "markdown",
   "metadata": {},
   "source": [
    "* krunker --[2]:https://krunker.io/?game=SIN:3609r"
   ]
  },
  {
   "cell_type": "markdown",
   "metadata": {},
   "source": [
    "* Google Site -- [Google][1]\n",
    "[1]:http://www.google.com"
   ]
  },
  {
   "cell_type": "markdown",
   "metadata": {},
   "source": [
    "* Krunker - [Krunker][2]\n",
    "[2]:https://krunker.io/?game=SIN:3609r"
   ]
  },
  {
   "cell_type": "code",
   "execution_count": 12,
   "metadata": {},
   "outputs": [
    {
     "name": "stdout",
     "output_type": "stream",
     "text": [
      "hello world\n"
     ]
    }
   ],
   "source": [
    "print(\"hello world\")"
   ]
  },
  {
   "cell_type": "code",
   "execution_count": 13,
   "metadata": {},
   "outputs": [
    {
     "name": "stdout",
     "output_type": "stream",
     "text": [
      "show man\n"
     ]
    }
   ],
   "source": [
    "print(\"show\",end=\" \")\n",
    "print(\"man\")"
   ]
  },
  {
   "cell_type": "code",
   "execution_count": 17,
   "metadata": {},
   "outputs": [
    {
     "name": "stdout",
     "output_type": "stream",
     "text": [
      "trinath  hi kodi trinath paanch\n"
     ]
    }
   ],
   "source": [
    "print(\"trinath\",\" hi\",end=\" \")\n",
    "print(\"kodi\",end=\" trinath \")\n",
    "print(\"paanch\")"
   ]
  },
  {
   "cell_type": "code",
   "execution_count": 20,
   "metadata": {},
   "outputs": [
    {
     "name": "stdout",
     "output_type": "stream",
     "text": [
      "20\n",
      "61 61 61\n",
      "20 11 30\n"
     ]
    }
   ],
   "source": [
    "a=20 #single variable assignment\n",
    "b=c=v=61 # multi variable assignment with same value\n",
    "z,d,f=20,30,11 # multi variable assignment with different variables & values\n",
    "print(a)\n",
    "print(b,c,v)\n",
    "print(z,f,d)"
   ]
  },
  {
   "cell_type": "code",
   "execution_count": 24,
   "metadata": {},
   "outputs": [
    {
     "name": "stdout",
     "output_type": "stream",
     "text": [
      "48 33.48\n",
      "<class 'int'>\n",
      "<class 'float'>\n"
     ]
    }
   ],
   "source": [
    "x=48\n",
    "y=33.48\n",
    "print(x,y)\n",
    "print(type(a))\n",
    "print(type(y))"
   ]
  },
  {
   "cell_type": "code",
   "execution_count": 25,
   "metadata": {},
   "outputs": [
    {
     "name": "stdout",
     "output_type": "stream",
     "text": [
      "48 33.48\n",
      "<class 'int'> <class 'float'>\n"
     ]
    }
   ],
   "source": [
    "x=48\n",
    "y=33.48\n",
    "print(x,y)\n",
    "print(type(x),type(y))"
   ]
  },
  {
   "cell_type": "code",
   "execution_count": 26,
   "metadata": {},
   "outputs": [
    {
     "name": "stdout",
     "output_type": "stream",
     "text": [
      "hello!\n",
      "hello\n"
     ]
    }
   ],
   "source": [
    "print(\"hello!\\nhello\")"
   ]
  },
  {
   "cell_type": "code",
   "execution_count": 5,
   "metadata": {},
   "outputs": [
    {
     "name": "stdout",
     "output_type": "stream",
     "text": [
      "<class 'int'>\n",
      "<class 'str'>\n",
      "<class 'float'>\n"
     ]
    }
   ],
   "source": [
    "i=100\n",
    "print(type(i))\n",
    "x=str(i) # str() converts the input to string type\n",
    "print(type(x))\n",
    "y=float(i) # float() converts the input into float type\n",
    "print(type(y))"
   ]
  },
  {
   "cell_type": "code",
   "execution_count": null,
   "metadata": {},
   "outputs": [],
   "source": [
    "x=\"100\"\n",
    "print(type(x))\n",
    "a=int(x)\n",
    "print(type(a))\n",
    "f=3.3\n",
    "z=int(f)\n",
    "print(type(z))\n",
    "print(z)"
   ]
  },
  {
   "cell_type": "code",
   "execution_count": 7,
   "metadata": {},
   "outputs": [
    {
     "name": "stdout",
     "output_type": "stream",
     "text": [
      "4\n"
     ]
    }
   ],
   "source": [
    "#TO FIND LENGTH\n",
    "a=3348\n",
    "print(len(str(a)))"
   ]
  },
  {
   "cell_type": "code",
   "execution_count": 8,
   "metadata": {},
   "outputs": [
    {
     "name": "stdout",
     "output_type": "stream",
     "text": [
      "enter your nametrinath\n",
      "trinath\n",
      "<class 'str'>\n"
     ]
    }
   ],
   "source": [
    "s1=input(\"enter your name\")\n",
    "print(s1)\n",
    "print(type(s1))"
   ]
  },
  {
   "cell_type": "markdown",
   "metadata": {},
   "source": [
    "# Operators"
   ]
  },
  {
   "cell_type": "markdown",
   "metadata": {},
   "source": [
    "## Arithetic Operators"
   ]
  },
  {
   "cell_type": "markdown",
   "metadata": {},
   "source": [
    "* +\n",
    "* -\n",
    "* /\n",
    "* %\n",
    "* *\n",
    "* // # double division gives answer in int type while single division gives output in float\n",
    "### **"
   ]
  },
  {
   "cell_type": "code",
   "execution_count": 9,
   "metadata": {},
   "outputs": [
    {
     "name": "stdout",
     "output_type": "stream",
     "text": [
      "81\n",
      "15\n",
      "1.4545454545454546\n",
      "1584\n",
      "1\n",
      "30266404599109864532334369015971799232027475459658743808\n"
     ]
    }
   ],
   "source": [
    "x,y=48,33\n",
    "print(x+y)\n",
    "print(x-y)\n",
    "print(x/y)\n",
    "print(x*y)\n",
    "print(x//y)\n",
    "print(x**y)"
   ]
  },
  {
   "cell_type": "code",
   "execution_count": 10,
   "metadata": {},
   "outputs": [
    {
     "name": "stdout",
     "output_type": "stream",
     "text": [
      "8.0\n",
      "<class 'float'>\n"
     ]
    }
   ],
   "source": [
    "x=1+2**3/4+5\n",
    "print(x)\n",
    "print(type(x))"
   ]
  },
  {
   "cell_type": "markdown",
   "metadata": {},
   "source": [
    "## Relational Operators\n",
    "\n",
    "* ==\n",
    "* !=\n",
    "* greater than (>)\n",
    "* less than (<)\n",
    "* greater than or equal to (>=)\n",
    "* lessthan or equal to (<=)\n"
   ]
  },
  {
   "cell_type": "code",
   "execution_count": 11,
   "metadata": {},
   "outputs": [
    {
     "name": "stdout",
     "output_type": "stream",
     "text": [
      "False\n",
      "True\n"
     ]
    }
   ],
   "source": [
    "a,b=5,8\n",
    "x=(a>5 and b>8)\n",
    "y=(a<6 and b<9)\n",
    "print(x)\n",
    "print(y)"
   ]
  },
  {
   "cell_type": "markdown",
   "metadata": {},
   "source": [
    "# Else If Syntax"
   ]
  },
  {
   "cell_type": "markdown",
   "metadata": {},
   "source": [
    "if<>:\n",
    "else:\n",
    "\n",
    "## or\n",
    "\n",
    "if<>:\n",
    "elif<>:"
   ]
  },
  {
   "cell_type": "code",
   "execution_count": 2,
   "metadata": {},
   "outputs": [
    {
     "name": "stdout",
     "output_type": "stream",
     "text": [
      "enter a number9\n",
      "odd\n"
     ]
    }
   ],
   "source": [
    "# To check given number is even or odd\n",
    "n=int(input(\"enter a number\"))\n",
    "if n%2 == 0:\n",
    "    print(\"even\")\n",
    "else:\n",
    "    print(\"odd\")"
   ]
  },
  {
   "cell_type": "code",
   "execution_count": 3,
   "metadata": {},
   "outputs": [
    {
     "name": "stdout",
     "output_type": "stream",
     "text": [
      "enter a number25\n",
      "not divisible by 3 & 5\n"
     ]
    }
   ],
   "source": [
    "# Given number is divisible by both 3 & 5 or not\n",
    "n=int(input(\"enter a number\"))\n",
    "if n%3==0 and n%5==0:\n",
    "    print(\"divisible by 3 & 5\")\n",
    "else:\n",
    "    print(\"not divisible by 3 & 5\")"
   ]
  },
  {
   "cell_type": "code",
   "execution_count": null,
   "metadata": {},
   "outputs": [],
   "source": [
    "# Given number is 0 or -ve or +ve\n",
    "n=int(input(\"enter a number\"))\n",
    "if n==0:\n",
    "    print(\"n=0\")\n",
    "elif n>0:\n",
    "    print(\"n>0\")\n",
    "else:\n",
    "    print(\"n<0\")"
   ]
  },
  {
   "cell_type": "code",
   "execution_count": null,
   "metadata": {},
   "outputs": [],
   "source": [
    "# Largest among the three numberws\n",
    "a=int(input(\"enter a number\"))\n",
    "b=int(input(\"enter b number\"))\n",
    "c=int(input(\"enter c number\"))\n",
    "if a<b and a<c:\n",
    "    print(a, \"is largest\")\n",
    "elif b<a and b<c:\n",
    "    print(b,\"is largest\")\n",
    "else:\n",
    "    print(c,\"is largest\")"
   ]
  },
  {
   "cell_type": "code",
   "execution_count": null,
   "metadata": {},
   "outputs": [],
   "source": [
    "#to check given year is leap or not\n",
    "n=int(input(\"enter a year\"))\n",
    "if n%4==0:\n",
    "    print(n,\"is a leap year\")\n",
    "else:\n",
    "    print(n,\"is not a leap year\")"
   ]
  },
  {
   "cell_type": "markdown",
   "metadata": {},
   "source": [
    "# Iterations\n",
    "\n",
    "    1. While\n",
    "    2. For"
   ]
  },
  {
   "cell_type": "markdown",
   "metadata": {},
   "source": [
    "## While Boolean Condition:\n",
    "      Statements\n",
    "      Increment/Decrement(update)\n",
    "      \n",
    "### Syntax\n",
    "     while condition:\n",
    "     statements\n",
    "     update"
   ]
  },
  {
   "cell_type": "code",
   "execution_count": 1,
   "metadata": {},
   "outputs": [
    {
     "name": "stdout",
     "output_type": "stream",
     "text": [
      "enter a nameg\n",
      "g\n",
      "g\n",
      "g\n",
      "g\n",
      "g\n"
     ]
    }
   ],
   "source": [
    "# To print A name 5 times\n",
    "n=str(input(\"enter a name\"))\n",
    "i=0\n",
    "while i<5:\n",
    "    print(n)\n",
    "    i=i+1"
   ]
  },
  {
   "cell_type": "code",
   "execution_count": 10,
   "metadata": {},
   "outputs": [
    {
     "name": "stdout",
     "output_type": "stream",
     "text": [
      "enter n6\n",
      "0 1 2 3 4 5 6 "
     ]
    }
   ],
   "source": [
    "# T print 1 to n numbers\n",
    "n=int(input(\"enter n\"))\n",
    "i=0\n",
    "while i<=n:\n",
    "    print(i,end=\" \")\n",
    "    i=i+1"
   ]
  },
  {
   "cell_type": "code",
   "execution_count": 6,
   "metadata": {},
   "outputs": [
    {
     "name": "stdout",
     "output_type": "stream",
     "text": [
      "enter a number5\n",
      "9\n"
     ]
    }
   ],
   "source": [
    "# To read even number between 1 to n and sum them\n",
    "n=int(input(\"enter a number\"))\n",
    "i=0\n",
    "sum=0\n",
    "while i<=n:\n",
    "    if i%2==0:\n",
    "        sum=sum+i\n",
    "    i=i+1   \n",
    "print(sum)"
   ]
  },
  {
   "cell_type": "code",
   "execution_count": 7,
   "metadata": {},
   "outputs": [
    {
     "name": "stdout",
     "output_type": "stream",
     "text": [
      "enter a number3\n",
      "4\n"
     ]
    }
   ],
   "source": [
    "# To read odd numbers  between 1 to n\n",
    "n=int(input(\"enter a number\"))\n",
    "i=0\n",
    "sum=0\n",
    "while i<=n:\n",
    "    if i%2!=0:\n",
    "        sum=sum+i\n",
    "    i=i+1   \n",
    "print(sum)"
   ]
  },
  {
   "cell_type": "code",
   "execution_count": 7,
   "metadata": {},
   "outputs": [
    {
     "name": "stdout",
     "output_type": "stream",
     "text": [
      "enter a number3483\n",
      "3483\n",
      "3\n",
      "8\n",
      "4\n",
      "3\n"
     ]
    }
   ],
   "source": [
    "# to print digits in given number\n",
    "n=int(input(\"enter a number\"))\n",
    "r=0\n",
    "print(n)\n",
    "while n>0:\n",
    "    r=n%10\n",
    "    print(r)\n",
    "    n=int(n/10)"
   ]
  },
  {
   "cell_type": "markdown",
   "metadata": {},
   "source": [
    "# Functional Programing\n",
    "\n",
    "## Simple\n",
    "## Easy to read\n",
    "## Lengthy program divides into sub-program"
   ]
  },
  {
   "cell_type": "markdown",
   "metadata": {},
   "source": [
    "### def  name of the function (parameters):\n",
    "    Statements\n",
    "    return"
   ]
  },
  {
   "cell_type": "code",
   "execution_count": 37,
   "metadata": {},
   "outputs": [
    {
     "name": "stdout",
     "output_type": "stream",
     "text": [
      "enter a number4666666\n"
     ]
    },
    {
     "data": {
      "text/plain": [
       "40"
      ]
     },
     "execution_count": 37,
     "metadata": {},
     "output_type": "execute_result"
    }
   ],
   "source": [
    "# Sum of even digits using functions\n",
    "def addevendigits(n):\n",
    "    sum=0\n",
    "    while n!=0:\n",
    "        r=n%10\n",
    "        if r%2==0:\n",
    "            sum=sum+r\n",
    "        n=n//10\n",
    "    return(sum)#instead of return print can also be used\n",
    "n=int(input(\"enter a number\"))\n",
    "addevendigits(n)"
   ]
  },
  {
   "cell_type": "code",
   "execution_count": 30,
   "metadata": {},
   "outputs": [
    {
     "name": "stdout",
     "output_type": "stream",
     "text": [
      "enter a number4738\n",
      "8\n"
     ]
    }
   ],
   "source": [
    "# To print Large digit in a number\n",
    "def larger(n):\n",
    "    a=0\n",
    "    while n!=0:\n",
    "        r=n%10\n",
    "        if r>a:\n",
    "            a=r\n",
    "        n=n//10\n",
    "    print(a)      \n",
    "n=int(input(\"enter a number\"))\n",
    "larger(n)"
   ]
  },
  {
   "cell_type": "code",
   "execution_count": 38,
   "metadata": {},
   "outputs": [
    {
     "name": "stdout",
     "output_type": "stream",
     "text": [
      "enter a number457\n"
     ]
    },
    {
     "data": {
      "text/plain": [
       "754"
      ]
     },
     "execution_count": 38,
     "metadata": {},
     "output_type": "execute_result"
    }
   ],
   "source": [
    "#To reverse a number\n",
    "def reverse(n):\n",
    "    s=0\n",
    "    while n!=0:\n",
    "        r=n%10\n",
    "        s=s*10+r\n",
    "        n=n//10\n",
    "    return(s)\n",
    "n=int(input(\"enter a number\"))\n",
    "reverse(n)"
   ]
  },
  {
   "cell_type": "code",
   "execution_count": 47,
   "metadata": {},
   "outputs": [
    {
     "name": "stdout",
     "output_type": "stream",
     "text": [
      "enter a number3443\n",
      "pallindrome\n"
     ]
    }
   ],
   "source": [
    "#Given number is palindrome or not\n",
    "def pallindrome(n):\n",
    "    s=0\n",
    "    k=n\n",
    "    while n!=0:\n",
    "        r=n%10\n",
    "        s=s*10+r\n",
    "        n=n//10\n",
    "    if k==s:\n",
    "        print(\"pallindrome\")\n",
    "    else:\n",
    "        return \"Not a Pallindrome\"\n",
    "n=int(input(\"enter a number\"))\n",
    "pallindrome(n)"
   ]
  },
  {
   "cell_type": "code",
   "execution_count": 3,
   "metadata": {},
   "outputs": [
    {
     "name": "stdout",
     "output_type": "stream",
     "text": [
      "enter a number5\n",
      "120\n"
     ]
    }
   ],
   "source": [
    "#factorial\n",
    "\n",
    "n=int(input(\"enter a number\"))\n",
    "def fact(n):\n",
    "    f=1\n",
    "    i=1\n",
    "    while i<=n:\n",
    "        f=f*i\n",
    "        i=i+1\n",
    "    return(f)\n",
    "print(fact(n))"
   ]
  },
  {
   "cell_type": "markdown",
   "metadata": {},
   "source": [
    "## Functions using for loop"
   ]
  },
  {
   "cell_type": "code",
   "execution_count": 4,
   "metadata": {},
   "outputs": [
    {
     "name": "stdout",
     "output_type": "stream",
     "text": [
      "enter n4\n",
      "1 2 3 4 "
     ]
    }
   ],
   "source": [
    "#To print 1 to n numbers\n",
    "def num(n):\n",
    "    for i in range (1,n+1):\n",
    "        print(i,end=\" \")\n",
    "n=int(input(\"enter n\"))\n",
    "num(n)"
   ]
  },
  {
   "cell_type": "code",
   "execution_count": 8,
   "metadata": {},
   "outputs": [
    {
     "name": "stdout",
     "output_type": "stream",
     "text": [
      "enter n44\n",
      "enter m22\n",
      "44 43 42 41 40 39 38 37 36 35 34 33 32 31 30 29 28 27 26 25 24 23 22 "
     ]
    }
   ],
   "source": [
    "# to print alternative numbers\n",
    "def num(n,m):\n",
    "    for i in range (n,m-1,-1):\n",
    "        print(i,end=\" \")\n",
    "n=int(input(\"enter n\"))\n",
    "m=int(input(\"enter m\"))\n",
    "num(n,m)"
   ]
  },
  {
   "cell_type": "code",
   "execution_count": 4,
   "metadata": {},
   "outputs": [
    {
     "name": "stdout",
     "output_type": "stream",
     "text": [
      "10\n",
      "14\n",
      "18\n"
     ]
    }
   ],
   "source": [
    "for i in range(10,20-1,4):\n",
    "      print(i)\n"
   ]
  },
  {
   "cell_type": "code",
   "execution_count": null,
   "metadata": {},
   "outputs": [],
   "source": [
    "x=10\n",
    "if x>2:\n",
    "    print(\"y\")\n",
    "elif "
   ]
  }
 ],
 "metadata": {
  "kernelspec": {
   "display_name": "Python 3",
   "language": "python",
   "name": "python3"
  },
  "language_info": {
   "codemirror_mode": {
    "name": "ipython",
    "version": 3
   },
   "file_extension": ".py",
   "mimetype": "text/x-python",
   "name": "python",
   "nbconvert_exporter": "python",
   "pygments_lexer": "ipython3",
   "version": "3.7.3"
  }
 },
 "nbformat": 4,
 "nbformat_minor": 2
}
